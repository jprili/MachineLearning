{
 "cells": [
  {
   "cell_type": "code",
   "execution_count": 1,
   "id": "6fc8c50c-b49f-4ee7-8fe4-271da7a18e16",
   "metadata": {},
   "outputs": [],
   "source": [
    "import numpy as np\n",
    "import pandas as pd\n",
    "import matplotlib.pyplot as plt\n",
    "from mnist import MNIST"
   ]
  },
  {
   "cell_type": "code",
   "execution_count": 2,
   "id": "53f7c6ba-912a-489f-b9ce-b5e9ea853117",
   "metadata": {},
   "outputs": [],
   "source": [
    "mndata = MNIST(\"dat\")\n",
    "imgtrain, labtrain = mndata.load_training()\n",
    "imgtrain = np.array(imgtrain)/255"
   ]
  },
  {
   "cell_type": "code",
   "execution_count": 3,
   "id": "5ba899d7-91ce-40f4-81f4-33b944218bf7",
   "metadata": {},
   "outputs": [
    {
     "data": {
      "image/png": "[encoded data removed]",
      "text/plain": [
       "<Figure size 360x360 with 1 Axes>"
      ]
     },
     "metadata": {
      "needs_background": "light"
     },
     "output_type": "display_data"
    }
   ],
   "source": [
    "def displayimg(index : int):\n",
    "    \"\"\"\n",
    "    display function for image data\n",
    "    \"\"\"\n",
    "    sampleimg = np.array(imgtrain[index]).reshape(28,28)\n",
    "    x = np.arange(28)\n",
    "    y = np.arange(28, 0, -1)\n",
    "\n",
    "    xx, yy = np.meshgrid(x, y)\n",
    "\n",
    "    plt.figure(figsize = (5,5))\n",
    "    plt.contourf(xx, yy, sampleimg, cmap = \"gray\")\n",
    "    plt.show()\n",
    "    \n",
    "displayimg(100)"
   ]
  },
  {
   "cell_type": "code",
   "execution_count": null,
   "id": "8a070e63-f1af-4c99-b0e8-6e0872a00cdf",
   "metadata": {},
   "outputs": [],
   "source": [
    "class NeuralNetwork(object):\n",
    "    def __init__(self, dat):\n",
    "        data = dat\n",
    "        W1 = np.random.rand(16, 784)\n",
    "        b1 = np.random.rand(16, 1)\n",
    "        W2 = np.random.rand(16, 16)\n",
    "        b2 = np.random.rand(16, 1)\n",
    "        W3 = np.random.rand(16, 10)\n",
    "        b3 = np.random.rand(16, 1)\n",
    "        \n",
    "    def smd(self, z):\n",
    "        \"\"\"sigmoid function\"\"\"\n",
    "        return 1 / (1 + np.exp(-z))\n",
    "            \n",
    "    def relu(self, z):\n",
    "        \"\"\"ReLU function\"\"\"\n",
    "        return np.maximum(0 ,z)\n",
    "        \n",
    "    def propagate_fwd(self, arr, W1, b1, W2, b2, W3, b3):\n",
    "        \"\"\"\n",
    "        forward propagation\n",
    "        \"\"\"\n",
    "        a1 = smd(np.dot(W1, arr) + b1)\n",
    "        a2 = smd(np.dot(W2, a1) + b2)\n",
    "        a3 = smd(np.dot(W3, a2) + b3)\n",
    "        \n",
    "        return a1, a2, a3\n",
    "    \n",
    "    def propagate_bwd():\n",
    "        return None\n",
    "    \n",
    "    "
   ]
  }
 ],
 "metadata": {
  "kernelspec": {
   "display_name": "Python 3",
   "language": "python",
   "name": "python3"
  },
  "language_info": {
   "codemirror_mode": {
    "name": "ipython",
    "version": 3
   },
   "file_extension": ".py",
   "mimetype": "text/x-python",
   "name": "python",
   "nbconvert_exporter": "python",
   "pygments_lexer": "ipython3",
   "version": "3.8.3"
  }
 },
 "nbformat": 4,
 "nbformat_minor": 5
}
